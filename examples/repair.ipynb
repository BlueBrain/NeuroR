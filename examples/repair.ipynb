{
 "cells": [
  {
   "cell_type": "code",
   "execution_count": null,
   "metadata": {},
   "outputs": [],
   "source": [
    "from pathlib import Path"
   ]
  },
  {
   "cell_type": "code",
   "execution_count": null,
   "metadata": {},
   "outputs": [],
   "source": [
    "DATA = Path('../tests/data').resolve()"
   ]
  },
  {
   "cell_type": "markdown",
   "metadata": {},
   "source": [
    "# Sanitize"
   ]
  },
  {
   "cell_type": "markdown",
   "metadata": {},
   "source": [
    "This is the process of curating a morphological file. It currently:\n",
    "\n",
    "- removes zero-length segments\n",
    "- raises if the morphology has no soma\n",
    "- raises if the morphology has negative diameters\n",
    "\n",
    "Note: more functionality may be added in the future"
   ]
  },
  {
   "cell_type": "markdown",
   "metadata": {},
   "source": [
    "## Sanitize a single file"
   ]
  },
  {
   "cell_type": "code",
   "execution_count": null,
   "metadata": {},
   "outputs": [],
   "source": [
    "from neuror.sanitize import sanitize\n",
    "\n",
    "sanitize(Path(DATA, 'simple-with-duplicates.asc'), 'data/output/sanitized.swc')"
   ]
  },
  {
   "cell_type": "markdown",
   "metadata": {},
   "source": [
    "## Sanitize all files in a folder"
   ]
  },
  {
   "cell_type": "code",
   "execution_count": null,
   "metadata": {},
   "outputs": [],
   "source": [
    "from neuror.sanitize import sanitize_all\n",
    "\n",
    "sanitize_all(DATA, 'data/output/sanitized')"
   ]
  },
  {
   "cell_type": "markdown",
   "metadata": {},
   "source": [
    "# Cut plane repair"
   ]
  },
  {
   "cell_type": "markdown",
   "metadata": {},
   "source": [
    "The cut plane repair aims at regrowing part of a morphologies that have been cut out\n",
    "when the cell has been experimentally sliced."
   ]
  },
  {
   "cell_type": "markdown",
   "metadata": {},
   "source": [
    "## Repair a single file"
   ]
  },
  {
   "cell_type": "code",
   "execution_count": null,
   "metadata": {},
   "outputs": [],
   "source": [
    "from neuror.main import repair\n",
    "\n",
    "repair(DATA / 'Neuron_slice.h5', 'data/output/repaired.h5')\n"
   ]
  },
  {
   "cell_type": "markdown",
   "metadata": {},
   "source": [
    "## Repair all files in a folder"
   ]
  },
  {
   "cell_type": "code",
   "execution_count": null,
   "metadata": {},
   "outputs": [],
   "source": [
    "from neuror.full import repair_all\n",
    "\n",
    "output = Path('data/output/repaired-folder')\n",
    "output.mkdir(exist_ok=True)\n",
    "\n",
    "repair_all(DATA / '../../examples/input-repair', output)"
   ]
  },
  {
   "cell_type": "markdown",
   "metadata": {},
   "source": [
    "# Unravelling"
   ]
  },
  {
   "cell_type": "markdown",
   "metadata": {},
   "source": [
    "Unravelling is the action of \"stretching\" the cell that has been shrunk because of the dehydratation caused by the slicing."
   ]
  },
  {
   "cell_type": "markdown",
   "metadata": {},
   "source": [
    "## Unravel a single file"
   ]
  },
  {
   "cell_type": "code",
   "execution_count": null,
   "metadata": {},
   "outputs": [],
   "source": [
    "from neuror.unravel import unravel\n",
    "\n",
    "unravelled_neuron, mapping = unravel(DATA / 'Neuron_slice.h5')\n",
    "unravelled_neuron.write('data/output/unravelled.h5')\n",
    "\n",
    "# mapping contains the coordinates of each points of the morphology before/after unravelling\n",
    "mapping"
   ]
  },
  {
   "cell_type": "markdown",
   "metadata": {},
   "source": [
    "## Unravel all morphologies in a folder"
   ]
  },
  {
   "cell_type": "markdown",
   "metadata": {},
   "source": [
    "The following `unravel_all` function not only perform the unravelling of all the morphologies in the folder but also update their cut planes.\n",
    "\n",
    "Because the unravelling distords morphologies, cut planes must be computed before correcting it.\n",
    "`unravel_all` takes care of updating the position of the 'cut points' (points close to the cut plane) after they have been unravelled.\n",
    "Note: the planes can be computed with the CLI: neuror cut-plane compute folder\n",
    "\n",
    "The argument 'raw_planes' is a folder that must contain JSON files with cut planes for all morphology in the input folder. The name of the files should be the same as the morphology they refer to, but with the JSON extension.\n"
   ]
  },
  {
   "cell_type": "code",
   "execution_count": null,
   "metadata": {},
   "outputs": [],
   "source": [
    "from neuror.unravel import unravel_all\n",
    "\n",
    "output = Path('data/output/unravelled-folder')\n",
    "output.mkdir(exist_ok=True)\n",
    "\n",
    "input_path = DATA / 'input-unravel-all'\n",
    "raw_planes = input_path / 'raw-planes/'\n",
    "\n",
    "unravel_planes = output / 'unravelled-planes'\n",
    "unravel_planes.mkdir(exist_ok=True)\n",
    "\n",
    "unravel_all(input_path, output, \n",
    "            raw_planes, unravel_planes)"
   ]
  }
 ],
 "metadata": {
  "kernelspec": {
   "display_name": "Python 3",
   "language": "python",
   "name": "python3"
  },
  "language_info": {
   "codemirror_mode": {
    "name": "ipython",
    "version": 3
   },
   "file_extension": ".py",
   "mimetype": "text/x-python",
   "name": "python",
   "nbconvert_exporter": "python",
   "pygments_lexer": "ipython3",
   "version": "3.6.9"
  }
 },
 "nbformat": 4,
 "nbformat_minor": 4
}
