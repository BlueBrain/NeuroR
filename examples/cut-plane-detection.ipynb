{
 "cells": [
  {
   "cell_type": "markdown",
   "metadata": {},
   "source": [
    "# Cut plane detection"
   ]
  },
  {
   "cell_type": "markdown",
   "metadata": {},
   "source": [
    "The cut plane detection aims at find the spatial plane where the morphology was experimentally cut.\n",
    "\n",
    "The librairy offers two ways of detecting cut planes, depending of whether or not they are along the X,Y or Z axis or on a arbitrary one."
   ]
  },
  {
   "cell_type": "markdown",
   "metadata": {},
   "source": [
    "## Detection along X, Y or Z axes"
   ]
  },
  {
   "cell_type": "code",
   "execution_count": null,
   "metadata": {},
   "outputs": [],
   "source": [
    "%%capture\n",
    "!pip install --upgrade ..[plotly]"
   ]
  },
  {
   "cell_type": "code",
   "execution_count": null,
   "metadata": {},
   "outputs": [],
   "source": [
    "from pathlib import Path\n",
    "from neurom import load_neuron\n",
    "from neuror.cut_plane.detection import plot\n",
    "from neuror.cut_plane import CutPlane\n",
    "DATA = Path('../tests/data').resolve()\n",
    "\n",
    "result = CutPlane.find(DATA / 'Neuron_slice.h5')\n",
    "\n",
    "print(f'Checking the status of the detection: {result.status}\\n')\n",
    "\n",
    "print(f'Coordinates of morphology points belonging to the cut plane:\\n{result.cut_leaves_coordinates}\\n')\n",
    "\n",
    "a, b, c, d = result.coefs\n",
    "print(f'Cut plane equation: {a} X + {b} Y + {c} Z = {d}\\n')"
   ]
  },
  {
   "cell_type": "code",
   "execution_count": null,
   "metadata": {},
   "outputs": [],
   "source": [
    "plot(load_neuron(DATA / 'Neuron_slice.h5'), result.to_json(), inline=True)"
   ]
  },
  {
   "cell_type": "markdown",
   "metadata": {},
   "source": [
    "# Detection along arbitrary axes"
   ]
  },
  {
   "cell_type": "markdown",
   "metadata": {},
   "source": [
    "This needs to be done through the following CLI that will open a web-app that needs a manual hint to help for the detection:"
   ]
  },
  {
   "cell_type": "markdown",
   "metadata": {},
   "source": [
    "```bash\n",
    "neuror cut-plane compute hint\n",
    "```"
   ]
  }
 ],
 "metadata": {
  "kernelspec": {
   "display_name": "Python 3",
   "language": "python",
   "name": "python3"
  },
  "language_info": {
   "codemirror_mode": {
    "name": "ipython",
    "version": 3
   },
   "file_extension": ".py",
   "mimetype": "text/x-python",
   "name": "python",
   "nbconvert_exporter": "python",
   "pygments_lexer": "ipython3",
   "version": "3.7.5"
  }
 },
 "nbformat": 4,
 "nbformat_minor": 4
}
